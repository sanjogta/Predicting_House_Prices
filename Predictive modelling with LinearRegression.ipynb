{
 "cells": [
  {
   "cell_type": "markdown",
   "id": "61920ef8",
   "metadata": {},
   "source": [
    "# Predictive modelling for predicting prices of apartments in Brazil"
   ]
  },
  {
   "cell_type": "markdown",
   "id": "7d9785bd",
   "metadata": {},
   "source": [
    "### Import Data"
   ]
  },
  {
   "cell_type": "code",
   "execution_count": 94,
   "id": "406037c8",
   "metadata": {},
   "outputs": [],
   "source": [
    "import pandas as pd\n",
    "import numpy as np\n",
    "import matplotlib.pyplot as plt\n",
    "import seaborn as sns\n",
    "from sklearn.impute import SimpleImputer\n",
    "from category_encoders import OneHotEncoder\n",
    "from sklearn.model_selection import train_test_split\n",
    "from sklearn.linear_model import LinearRegression\n",
    "from sklearn.linear_model import Ridge\n",
    "from sklearn.pipeline import make_pipeline\n",
    "from sklearn.metrics import mean_absolute_error\n",
    "from ipywidgets import Dropdown, FloatSlider, IntSlider, interact"
   ]
  },
  {
   "cell_type": "code",
   "execution_count": 3,
   "id": "5e656eea",
   "metadata": {},
   "outputs": [],
   "source": [
    "path = r\"C:\\Users\\Sanjo\\Downloads\\properati-BR-2016-11-01-properties-sell.csv\\properati-BR-2016-11-01-properties-sell.csv\""
   ]
  },
  {
   "cell_type": "markdown",
   "id": "a527516c",
   "metadata": {},
   "source": [
    "### Explore Data"
   ]
  },
  {
   "cell_type": "code",
   "execution_count": 7,
   "id": "83154dc7",
   "metadata": {},
   "outputs": [],
   "source": [
    "# df.shape\n",
    "# x = df[df['place_with_parent_names'].str.contains('Minas Gerais')]"
   ]
  },
  {
   "cell_type": "code",
   "execution_count": 8,
   "id": "e55f461b",
   "metadata": {},
   "outputs": [],
   "source": [
    "# x['place_with_parent_names'].str.strip('|').str.split('|').str[-1]"
   ]
  },
  {
   "cell_type": "code",
   "execution_count": 9,
   "id": "be2e1fb7",
   "metadata": {},
   "outputs": [],
   "source": [
    "# df.head()"
   ]
  },
  {
   "cell_type": "code",
   "execution_count": 10,
   "id": "6abbe236",
   "metadata": {},
   "outputs": [],
   "source": [
    "# df.info()"
   ]
  },
  {
   "cell_type": "code",
   "execution_count": 11,
   "id": "a83b1fb2",
   "metadata": {},
   "outputs": [],
   "source": [
    "# df['price_aprox_usd'].describe()"
   ]
  },
  {
   "cell_type": "code",
   "execution_count": 12,
   "id": "29e21fba",
   "metadata": {},
   "outputs": [],
   "source": [
    "# df['price_aprox_usd'].quantile([0.0, 0.25, 0.50, 0.75, 1])"
   ]
  },
  {
   "cell_type": "code",
   "execution_count": 13,
   "id": "0330b85d",
   "metadata": {},
   "outputs": [],
   "source": [
    "# df['property_type'].unique()"
   ]
  },
  {
   "cell_type": "code",
   "execution_count": 73,
   "id": "2a071d4b",
   "metadata": {},
   "outputs": [],
   "source": [
    "def wrangle(csv_path):\n",
    "    df = pd.read_csv(csv_path)\n",
    "    \n",
    "    # filtering to property_type='apartment'\n",
    "    mask_pt = df['property_type']=='apartment'\n",
    "    \n",
    "    # filtering to apartmets with prices less than $ 200000\n",
    "    mask_price = df['price_aprox_usd']<200000\n",
    "    \n",
    "    # filtering to 'Minas Gerais' area\n",
    "    mask_place = df['place_with_parent_names'].str.contains('Minas Gerais')\n",
    "    \n",
    "    df = df[mask_pt & mask_price & mask_place]\n",
    "    \n",
    "    # Splitting 'lat-lon' column into two separate columns\n",
    "    df[['lat','lon']] = df['lat-lon'].str.split(',', expand=True).astype('float')\n",
    "    df.drop(columns='lat-lon', inplace=True)\n",
    "    \n",
    "    # removing outliers\n",
    "    high, low = df['surface_covered_in_m2'].quantile([0.1, 0.9])\n",
    "    mask_area = df['surface_covered_in_m2'].between(high, low)\n",
    "    df = df[mask_area]\n",
    "    \n",
    "    # Creating neighborhood column\n",
    "    df['neighborhood'] = df['place_with_parent_names'].str.strip('|').str.split('|').str[-1]\n",
    "    df.drop(columns='place_with_parent_names', inplace=True)\n",
    "    \n",
    "    # Drop columns with low cardinality\n",
    "    # low_card_col = [col for col in df.select_dtypes('object').columns if df.col.nunqiue()<10]\n",
    "    df.drop(columns=['operation', 'property_type', 'currency'], inplace=True)\n",
    "\n",
    "    # Drop columns with High cardinality\n",
    "    #  high_card_col = [col for col in df.select_dtypes('object').columns if df.col.nunique()>1000]\n",
    "    df.drop(columns=['created_on','place_name','geonames_id','surface_total_in_m2','properati_url','description','rooms','expenses','floor','title','image_thumbnail'], inplace=True)\n",
    "    \n",
    "    # Drop columns with more then 50% null values\n",
    "    # df.dropna(thresh=0.5*len(df), axis=1, inplace=True)\n",
    "    \n",
    "    # Drop columns which are highly correlated ie. multicollinear features\n",
    "    \n",
    "    # Drop leaky columns\n",
    "    df.drop(columns=['price', 'price_aprox_local_currency', 'price_usd_per_m2', 'price_per_m2'], inplace=True)\n",
    "    \n",
    "    return df"
   ]
  },
  {
   "cell_type": "code",
   "execution_count": 50,
   "id": "2e030167",
   "metadata": {},
   "outputs": [],
   "source": [
    "df = wrangle(path)"
   ]
  },
  {
   "cell_type": "code",
   "execution_count": 51,
   "id": "87517077",
   "metadata": {},
   "outputs": [
    {
     "data": {
      "text/plain": [
       "(8881, 5)"
      ]
     },
     "execution_count": 51,
     "metadata": {},
     "output_type": "execute_result"
    }
   ],
   "source": [
    "df.shape"
   ]
  },
  {
   "cell_type": "code",
   "execution_count": 89,
   "id": "c201abf7",
   "metadata": {
    "scrolled": false
   },
   "outputs": [
    {
     "data": {
      "text/plain": [
       "Text(0.5, 1.0, 'Distribution of Area in Minas Gerais')"
      ]
     },
     "execution_count": 89,
     "metadata": {},
     "output_type": "execute_result"
    },
    {
     "data": {
      "image/png": "[encoded data removed]",
      "text/plain": [
       "<Figure size 640x480 with 1 Axes>"
      ]
     },
     "metadata": {},
     "output_type": "display_data"
    }
   ],
   "source": [
    "plt.hist(df['surface_covered_in_m2'])\n",
    "plt.xlabel('Area [square meters]')\n",
    "plt.title('Distribution of Area in Minas Gerais')"
   ]
  },
  {
   "cell_type": "code",
   "execution_count": 55,
   "id": "b96524fc",
   "metadata": {
    "scrolled": true
   },
   "outputs": [
    {
     "name": "stdout",
     "output_type": "stream",
     "text": [
      "<class 'pandas.core.frame.DataFrame'>\n",
      "Int64Index: 8881 entries, 21481 to 872308\n",
      "Data columns (total 5 columns):\n",
      " #   Column                 Non-Null Count  Dtype  \n",
      "---  ------                 --------------  -----  \n",
      " 0   lat                    2851 non-null   float64\n",
      " 1   lon                    2851 non-null   float64\n",
      " 2   price_aprox_usd        8881 non-null   float64\n",
      " 3   surface_covered_in_m2  8881 non-null   float64\n",
      " 4   neighborhood           8881 non-null   object \n",
      "dtypes: float64(4), object(1)\n",
      "memory usage: 416.3+ KB\n"
     ]
    }
   ],
   "source": [
    "df.info()"
   ]
  },
  {
   "cell_type": "code",
   "execution_count": 75,
   "id": "a920e789",
   "metadata": {},
   "outputs": [],
   "source": [
    "## Check for multicollinearity & drop those that have more nulls than the other"
   ]
  },
  {
   "cell_type": "code",
   "execution_count": 70,
   "id": "57cc9d2e",
   "metadata": {
    "scrolled": true
   },
   "outputs": [
    {
     "data": {
      "text/html": [
       "<div>\n",
       "<style scoped>\n",
       "    .dataframe tbody tr th:only-of-type {\n",
       "        vertical-align: middle;\n",
       "    }\n",
       "\n",
       "    .dataframe tbody tr th {\n",
       "        vertical-align: top;\n",
       "    }\n",
       "\n",
       "    .dataframe thead th {\n",
       "        text-align: right;\n",
       "    }\n",
       "</style>\n",
       "<table border=\"1\" class=\"dataframe\">\n",
       "  <thead>\n",
       "    <tr style=\"text-align: right;\">\n",
       "      <th></th>\n",
       "      <th>lat</th>\n",
       "      <th>lon</th>\n",
       "      <th>surface_covered_in_m2</th>\n",
       "    </tr>\n",
       "  </thead>\n",
       "  <tbody>\n",
       "    <tr>\n",
       "      <th>lat</th>\n",
       "      <td>1.000000</td>\n",
       "      <td>-0.052442</td>\n",
       "      <td>0.005877</td>\n",
       "    </tr>\n",
       "    <tr>\n",
       "      <th>lon</th>\n",
       "      <td>-0.052442</td>\n",
       "      <td>1.000000</td>\n",
       "      <td>0.089159</td>\n",
       "    </tr>\n",
       "    <tr>\n",
       "      <th>surface_covered_in_m2</th>\n",
       "      <td>0.005877</td>\n",
       "      <td>0.089159</td>\n",
       "      <td>1.000000</td>\n",
       "    </tr>\n",
       "  </tbody>\n",
       "</table>\n",
       "</div>"
      ],
      "text/plain": [
       "                            lat       lon  surface_covered_in_m2\n",
       "lat                    1.000000 -0.052442               0.005877\n",
       "lon                   -0.052442  1.000000               0.089159\n",
       "surface_covered_in_m2  0.005877  0.089159               1.000000"
      ]
     },
     "execution_count": 70,
     "metadata": {},
     "output_type": "execute_result"
    }
   ],
   "source": [
    "corr = df.select_dtypes('number').drop(columns='price_aprox_usd').corr()\n",
    "corr"
   ]
  },
  {
   "cell_type": "code",
   "execution_count": 72,
   "id": "ddb481dc",
   "metadata": {},
   "outputs": [
    {
     "data": {
      "text/plain": [
       "<AxesSubplot:>"
      ]
     },
     "execution_count": 72,
     "metadata": {},
     "output_type": "execute_result"
    },
    {
     "data": {
      "image/png": "[encoded data removed]",
      "text/plain": [
       "<Figure size 640x480 with 2 Axes>"
      ]
     },
     "metadata": {},
     "output_type": "display_data"
    }
   ],
   "source": [
    "sns.heatmap(corr)"
   ]
  },
  {
   "cell_type": "code",
   "execution_count": 56,
   "id": "595eb277",
   "metadata": {},
   "outputs": [
    {
     "data": {
      "text/plain": [
       "lat                      6030\n",
       "lon                      6030\n",
       "price_aprox_usd             0\n",
       "surface_covered_in_m2       0\n",
       "neighborhood                0\n",
       "dtype: int64"
      ]
     },
     "execution_count": 56,
     "metadata": {},
     "output_type": "execute_result"
    }
   ],
   "source": [
    "df.isnull().sum()"
   ]
  },
  {
   "cell_type": "markdown",
   "id": "86eec865",
   "metadata": {},
   "source": [
    "### Splitting the data"
   ]
  },
  {
   "cell_type": "code",
   "execution_count": 57,
   "id": "b7018441",
   "metadata": {},
   "outputs": [],
   "source": [
    "X = df[['neighborhood', 'lat', 'lon', 'surface_covered_in_m2']]\n",
    "y = df['price_aprox_usd']"
   ]
  },
  {
   "cell_type": "code",
   "execution_count": 58,
   "id": "ede1705c",
   "metadata": {},
   "outputs": [
    {
     "data": {
      "text/plain": [
       "((8881, 4), (8881,))"
      ]
     },
     "execution_count": 58,
     "metadata": {},
     "output_type": "execute_result"
    }
   ],
   "source": [
    "X.shape, y.shape"
   ]
  },
  {
   "cell_type": "code",
   "execution_count": 59,
   "id": "6cf2af4b",
   "metadata": {},
   "outputs": [],
   "source": [
    "X_train, X_test, y_train, y_test = train_test_split(X, y, test_size=0.2, shuffle=True)"
   ]
  },
  {
   "cell_type": "code",
   "execution_count": 60,
   "id": "8f11a9be",
   "metadata": {},
   "outputs": [
    {
     "data": {
      "text/plain": [
       "((7104, 4), (7104,), (1777, 4), (1777,))"
      ]
     },
     "execution_count": 60,
     "metadata": {},
     "output_type": "execute_result"
    }
   ],
   "source": [
    "X_train.shape, y_train.shape, X_test.shape, y_test.shape"
   ]
  },
  {
   "cell_type": "code",
   "execution_count": 61,
   "id": "7333ea24",
   "metadata": {},
   "outputs": [
    {
     "data": {
      "text/plain": [
       "103"
      ]
     },
     "execution_count": 61,
     "metadata": {},
     "output_type": "execute_result"
    }
   ],
   "source": [
    "X_train['neighborhood'].nunique()"
   ]
  },
  {
   "cell_type": "markdown",
   "id": "a8516a6e",
   "metadata": {},
   "source": [
    "### Create a pipeline"
   ]
  },
  {
   "cell_type": "code",
   "execution_count": 62,
   "id": "df2ad37c",
   "metadata": {},
   "outputs": [],
   "source": [
    "imp_mean = SimpleImputer(missing_values=np.nan, strategy='mean')"
   ]
  },
  {
   "cell_type": "code",
   "execution_count": 63,
   "id": "77c7ec90",
   "metadata": {},
   "outputs": [],
   "source": [
    "ohe = OneHotEncoder(cols=['neighborhood'],use_cat_names=True)"
   ]
  },
  {
   "cell_type": "code",
   "execution_count": 64,
   "id": "a4616e10",
   "metadata": {},
   "outputs": [],
   "source": [
    "lin = LinearRegression()"
   ]
  },
  {
   "cell_type": "code",
   "execution_count": 65,
   "id": "3a058c25",
   "metadata": {},
   "outputs": [],
   "source": [
    "model = make_pipeline(ohe, imp_mean, lin)"
   ]
  },
  {
   "cell_type": "markdown",
   "id": "f3920b4d",
   "metadata": {},
   "source": [
    "### Fit the model on training set"
   ]
  },
  {
   "cell_type": "code",
   "execution_count": 66,
   "id": "468353c4",
   "metadata": {},
   "outputs": [
    {
     "data": {
      "text/plain": [
       "Pipeline(steps=[('onehotencoder',\n",
       "                 OneHotEncoder(cols=['neighborhood'], use_cat_names=True)),\n",
       "                ('simpleimputer', SimpleImputer()),\n",
       "                ('linearregression', LinearRegression())])"
      ]
     },
     "execution_count": 66,
     "metadata": {},
     "output_type": "execute_result"
    }
   ],
   "source": [
    "model.fit(X_train, y_train)"
   ]
  },
  {
   "cell_type": "markdown",
   "id": "57e08e3d",
   "metadata": {},
   "source": [
    "### Make predictions on test set"
   ]
  },
  {
   "cell_type": "code",
   "execution_count": 102,
   "id": "e5c3a649",
   "metadata": {},
   "outputs": [],
   "source": [
    "y_pred_training = model.predict(X_train)"
   ]
  },
  {
   "cell_type": "code",
   "execution_count": 67,
   "id": "10dd7de8",
   "metadata": {},
   "outputs": [],
   "source": [
    "y_test_pred = model.predict(X_test)"
   ]
  },
  {
   "cell_type": "markdown",
   "id": "cb1fa528",
   "metadata": {},
   "source": [
    "### Evaluate the model"
   ]
  },
  {
   "cell_type": "code",
   "execution_count": 103,
   "id": "9828c15a",
   "metadata": {},
   "outputs": [
    {
     "name": "stdout",
     "output_type": "stream",
     "text": [
      "traning mae (LinearRegression Model):  20487.246291765954\n"
     ]
    }
   ],
   "source": [
    "mae_train = mean_absolute_error(y_train, y_pred_training)\n",
    "print(\"traning mae (LinearRegression Model): \", mae_train)"
   ]
  },
  {
   "cell_type": "code",
   "execution_count": 99,
   "id": "455d9989",
   "metadata": {},
   "outputs": [
    {
     "name": "stdout",
     "output_type": "stream",
     "text": [
      "LinearRegression model : MAE =:  20919.27\n"
     ]
    }
   ],
   "source": [
    "mae = mean_absolute_error(y_test, y_test_pred)\n",
    "print(\"LinearRegression model : MAE =: \", round(mae,2))"
   ]
  },
  {
   "cell_type": "markdown",
   "id": "f360ce23",
   "metadata": {},
   "source": [
    "#### Ideally, you want your test performance metrics to be the same as its training performance metrics. In practice, test metrics tend to be a little worse (this means a larger number in the case of mean absolute error). But as long as the training and test performance are close to each other, you can be confident that your model will generalize well. "
   ]
  },
  {
   "cell_type": "code",
   "execution_count": 76,
   "id": "20d16194",
   "metadata": {},
   "outputs": [],
   "source": [
    "def make_prediction(area, lat, lon, neighborhood):\n",
    "    data = {\n",
    "        \"surface_covered_in_m2\": area,\n",
    "        \"lat\": lat,\n",
    "        \"lon\": lon,\n",
    "        \"neighborhood\": neighborhood\n",
    "    }\n",
    "    df = pd.DataFrame(data, index=[0])\n",
    "    prediction = model.predict(df).round(2)[0]\n",
    "    return f\"Predicted apartment price: ${prediction}\""
   ]
  },
  {
   "cell_type": "code",
   "execution_count": 86,
   "id": "83c62fe1",
   "metadata": {},
   "outputs": [
    {
     "name": "stderr",
     "output_type": "stream",
     "text": [
      "C:\\Users\\Sanjo\\Anaconda3\\lib\\site-packages\\sklearn\\base.py:493: FutureWarning: The feature names should match those that were passed during fit. Starting version 1.2, an error will be raised.\n",
      "Feature names must be in the same order as they were in fit.\n",
      "\n",
      "  warnings.warn(message, FutureWarning)\n"
     ]
    },
    {
     "data": {
      "text/plain": [
       "'Predicted apartment price: $547774.14'"
      ]
     },
     "execution_count": 86,
     "metadata": {},
     "output_type": "execute_result"
    }
   ],
   "source": [
    "make_prediction(110, -34.60, -58.46, \"Uberaba\")"
   ]
  },
  {
   "cell_type": "code",
   "execution_count": 91,
   "id": "04dfd2f9",
   "metadata": {
    "scrolled": true
   },
   "outputs": [
    {
     "data": {
      "text/plain": [
       "neighborhood_Cidade Nova        9386.479871\n",
       "neighborhood_Jardim América     6135.389758\n",
       "neighborhood_Belo Horizonte     7643.616739\n",
       "neighborhood_Uberaba          -21650.912098\n",
       "neighborhood_Pouso Alegre     -33333.214710\n",
       "                                   ...     \n",
       "neighborhood_São Paulo        -17859.974084\n",
       "neighborhood_Cinquentenário   -11519.247571\n",
       "lat                            -4263.222908\n",
       "lon                             4171.360686\n",
       "surface_covered_in_m2            929.518016\n",
       "Length: 106, dtype: float64"
      ]
     },
     "execution_count": 91,
     "metadata": {},
     "output_type": "execute_result"
    }
   ],
   "source": [
    "coefficients = model.named_steps['linearregression'].coef_\n",
    "# coefficients\n",
    "features = model.named_steps['onehotencoder'].get_feature_names_out()\n",
    "# features\n",
    "feat_imp = pd.Series(data=coefficients, index=features)\n",
    "feat_imp"
   ]
  },
  {
   "cell_type": "markdown",
   "id": "52a3d953",
   "metadata": {},
   "source": [
    "### Below horizontal bar chart that shows the 10 most influential coefficients for my model. "
   ]
  },
  {
   "cell_type": "code",
   "execution_count": 93,
   "id": "a85ee58e",
   "metadata": {},
   "outputs": [
    {
     "data": {
      "text/plain": [
       "Text(0.5, 1.0, 'Feature Importances for Apartment Price')"
      ]
     },
     "execution_count": 93,
     "metadata": {},
     "output_type": "execute_result"
    },
    {
     "data": {
      "image/png": "[encoded data removed]",
      "text/plain": [
       "<Figure size 640x480 with 1 Axes>"
      ]
     },
     "metadata": {},
     "output_type": "display_data"
    }
   ],
   "source": [
    "feat_imp.sort_values(key=abs).tail(10).plot(kind='barh')\n",
    "\n",
    "# Label axes\n",
    "plt.xlabel(\"Importance [USD]\")\n",
    "plt.ylabel(\"Feature\")\n",
    "\n",
    "# Add title\n",
    "plt.title('Feature Importances for Apartment Price')\n"
   ]
  }
 ],
 "metadata": {
  "kernelspec": {
   "display_name": "Python 3 (ipykernel)",
   "language": "python",
   "name": "python3"
  },
  "language_info": {
   "codemirror_mode": {
    "name": "ipython",
    "version": 3
   },
   "file_extension": ".py",
   "mimetype": "text/x-python",
   "name": "python",
   "nbconvert_exporter": "python",
   "pygments_lexer": "ipython3",
   "version": "3.9.13"
  }
 },
 "nbformat": 4,
 "nbformat_minor": 5
}
